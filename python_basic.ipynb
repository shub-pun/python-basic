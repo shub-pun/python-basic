{
  "nbformat": 4,
  "nbformat_minor": 0,
  "metadata": {
    "colab": {
      "provenance": []
    },
    "kernelspec": {
      "name": "python3",
      "display_name": "Python 3"
    },
    "language_info": {
      "name": "python"
    }
  },
  "cells": [
    {
      "cell_type": "markdown",
      "source": [
        "# python basic questions"
      ],
      "metadata": {
        "id": "HGXD42n5KL3u"
      }
    },
    {
      "cell_type": "markdown",
      "source": [
        "1.what is Python, and why is it popular?\n",
        "- Python is a high-level interpreted programming language known for its easy-to-read syntax. It’s widely used in web development, data science, automation, AI, and more. Its popularity comes from being beginner-friendly, having a huge collection of libraries, and a strong community that keeps it evolving."
      ],
      "metadata": {
        "id": "5V3f35AxKprU"
      }
    },
    {
      "cell_type": "markdown",
      "source": [
        "2.What is an interpreter in Python?\n",
        "- The interpreter is the part of Python that reads and executes your code line by line. Instead of compiling the whole program before running, Python interprets and runs it directly, which makes development faster and easier, especially for testing and debugging.\n"
      ],
      "metadata": {
        "id": "4e2Vri6CNqoN"
      }
    },
    {
      "cell_type": "markdown",
      "source": [
        "\n",
        "3.What are pre-defined keywords in Python?\n",
        "- Keywords in Python are special reserved words that the language uses for its own syntax rules — like if, while, class, def, etc. You can’t use them for naming variables or functions because they already have specific meanings.\n"
      ],
      "metadata": {
        "id": "khx47w7gKsPg"
      }
    },
    {
      "cell_type": "markdown",
      "source": [
        "4.Can keywords be used as variable names?\n",
        "- No, you can't use keywords as variable names. For example, you can't name a variable for or return because Python will get confused — it expects those to be part of the language structure.\n"
      ],
      "metadata": {
        "id": "VYX8SxTSNmni"
      }
    },
    {
      "cell_type": "markdown",
      "source": [
        "5.What is mutability in Python?\n",
        "- Mutability refers to whether an object can be changed after it's created. If it's mutable, like a list, you can change its contents. If it’s immutable, like a string or tuple, you can’t modify it.\n"
      ],
      "metadata": {
        "id": "bGnH1hbpPvMA"
      }
    },
    {
      "cell_type": "markdown",
      "source": [],
      "metadata": {
        "id": "k-2wSqnYP6Ai"
      }
    },
    {
      "cell_type": "markdown",
      "source": [
        "6.Why are lists mutable, but tuples are immutable?\n",
        "- Lists are meant to store data that might need to change — you can add, remove, or update elements. Tuples, on the other hand, are often used for fixed collections of data. Making them immutable helps ensure their content remains constant and can also improve performance\n"
      ],
      "metadata": {
        "id": "9mxUVBqrNDRj"
      }
    },
    {
      "cell_type": "markdown",
      "source": [
        "7.What is the difference between “==” and “is” operators in Python?\n",
        "- \"==\" checks if the values of two objects are equal.                 \t\"is\" checks whether they are actually the same object in memory.\n",
        "Example: Two lists with the same values might be == but not is.\n"
      ],
      "metadata": {
        "id": "MxQoJoExQgPa"
      }
    },
    {
      "cell_type": "markdown",
      "source": [
        "8.What are logical operators in Python?\n",
        "- Logical operators are used to combine or modify Boolean conditions. Python has three:\n",
        "- and: returns True if both conditions are True\n",
        "- or: returns True if at least one condition is True\n",
        "- not: reverses the condition (True becomes False and vice versa)\n"
      ],
      "metadata": {
        "id": "AaW_Kc6-Qgwh"
      }
    },
    {
      "cell_type": "markdown",
      "source": [
        "9.What is type casting in Python?\n",
        "- Type casting means converting a value from one data type to another. For example, turning a string \"123\" into an integer 123 using int(\"123\"). It's helpful when you need to do operations between different data types.\n"
      ],
      "metadata": {
        "id": "u7r3g_UcSPF4"
      }
    },
    {
      "cell_type": "markdown",
      "source": [
        "10. What is the difference between implicit and explicit type casting?\n",
        "-\tImplicit casting is done by Python automatically, like turning an integer into a float when needed.\n",
        "-\tExplicit casting is when you manually convert a type using functions like int(), float(), or str().\n"
      ],
      "metadata": {
        "id": "v4bKcdZvSg1w"
      }
    },
    {
      "cell_type": "markdown",
      "source": [
        "11. What is the purpose of conditional statements in Python?\n",
        "- Conditional statements let your program make decisions. They allow you to run different blocks of code depending on whether certain conditions are true or false, using if, elif, and else.\n"
      ],
      "metadata": {
        "id": "JNmrarxsS16-"
      }
    },
    {
      "cell_type": "markdown",
      "source": [
        "12.\tHow does the elif statement work?\n",
        "- elif stands for \"else if\". It allows you to check multiple conditions one after the other. If the if condition fails, Python checks the elif condition(s), and runs the block of code for the first one that’s true.\n"
      ],
      "metadata": {
        "id": "FjUGXo94TJRJ"
      }
    },
    {
      "cell_type": "markdown",
      "source": [
        "13.\tWhat is the difference between for and while loops?\n",
        "- for loop is used when you know how many times you want to loop — usually over a sequence like a list or range.\n",
        "- while loop runs as long as a certain condition is true — useful when you don't know how many times you need to loop.\n"
      ],
      "metadata": {
        "id": "jYgh84bKTy5n"
      }
    },
    {
      "cell_type": "markdown",
      "source": [
        "14. Describe a scenario where a while loop is more suitable than a for loop.\n",
        "- Imagine you’re asking a user to enter a password until they get it right. You don’t know how many attempts they’ll need, so a while loop is perfect. It keeps repeating until the correct password is entered.\n"
      ],
      "metadata": {
        "id": "1aB3kAt0Qe4O"
      }
    },
    {
      "cell_type": "markdown",
      "source": [
        "# Practical Questions"
      ],
      "metadata": {
        "id": "tOfoH0MvT0IW"
      }
    },
    {
      "cell_type": "code",
      "source": [
        "#1.Write a Python program to print \"Hello, World!\"\n",
        "print(\"Hello, World\")"
      ],
      "metadata": {
        "colab": {
          "base_uri": "https://localhost:8080/"
        },
        "id": "G6ptS_YBWMMs",
        "outputId": "f8c4aec9-e37d-406b-ee28-dac72b1fa597"
      },
      "execution_count": 1,
      "outputs": [
        {
          "output_type": "stream",
          "name": "stdout",
          "text": [
            "Hello, World\n"
          ]
        }
      ]
    },
    {
      "cell_type": "code",
      "source": [
        "#2.Write a Python program that displays your name and age\n",
        "name = \"shubham\"\n",
        "age = 21\n",
        "print(\"name:\",name)\n",
        "print(\"age:\",age)"
      ],
      "metadata": {
        "colab": {
          "base_uri": "https://localhost:8080/"
        },
        "id": "qxpu4YEEWMAC",
        "outputId": "63f8cf8e-9205-44fa-a007-f43959f5bef5"
      },
      "execution_count": 2,
      "outputs": [
        {
          "output_type": "stream",
          "name": "stdout",
          "text": [
            "name: shubham\n",
            "age: 21\n"
          ]
        }
      ]
    },
    {
      "cell_type": "code",
      "source": [
        "#3.Write code to print all the pre-defined keywords in Python using the keyword library.\n",
        "import keyword\n",
        "\n",
        "print(\"Python Keywords:\")\n",
        "print(keyword.kwlist)\n"
      ],
      "metadata": {
        "colab": {
          "base_uri": "https://localhost:8080/"
        },
        "id": "fVzgiIHRV6-P",
        "outputId": "a779caaf-8670-440d-927a-9407e0b8c051"
      },
      "execution_count": 3,
      "outputs": [
        {
          "output_type": "stream",
          "name": "stdout",
          "text": [
            "Python Keywords:\n",
            "['False', 'None', 'True', 'and', 'as', 'assert', 'async', 'await', 'break', 'class', 'continue', 'def', 'del', 'elif', 'else', 'except', 'finally', 'for', 'from', 'global', 'if', 'import', 'in', 'is', 'lambda', 'nonlocal', 'not', 'or', 'pass', 'raise', 'return', 'try', 'while', 'with', 'yield']\n"
          ]
        }
      ]
    },
    {
      "cell_type": "code",
      "source": [
        "#4.Write a program that checks if a given word is a Python keyword\n",
        "import keyword\n",
        "\n",
        "word = input(\"Enter a word: \")\n",
        "if keyword.iskeyword(word):\n",
        "    print(f\"'{word}' is a Python keyword.\")\n",
        "else:\n",
        "    print(f\"'{word}' is NOT a Python keyword.\")\n"
      ],
      "metadata": {
        "colab": {
          "base_uri": "https://localhost:8080/"
        },
        "id": "sjuGYbQTV66N",
        "outputId": "77132e82-99e3-49fd-f9b0-23941bead013"
      },
      "execution_count": 4,
      "outputs": [
        {
          "output_type": "stream",
          "name": "stdout",
          "text": [
            "Enter a word: else\n",
            "'else' is a Python keyword.\n"
          ]
        }
      ]
    },
    {
      "cell_type": "code",
      "source": [
        "#5. Create a list and tuple in Python, and demonstrate how attempting to change an element works differently for each\n",
        "# List (mutable)\n",
        "my_list = [1, 2, 3]\n",
        "my_list[0] = 100  # This works\n",
        "print(\"Modified List:\", my_list)\n",
        "\n",
        "# Tuple (immutable)\n",
        "my_tuple = (1, 2, 3)\n",
        "try:\n",
        "    my_tuple[0] = 100  # This will raise an error\n",
        "except TypeError as e:\n",
        "    print(\"Error with tuple:\", e)\n"
      ],
      "metadata": {
        "id": "6gltB-TXV63m"
      },
      "execution_count": null,
      "outputs": []
    },
    {
      "cell_type": "code",
      "source": [
        "#6. Write a function to demonstrate the behavior of mutable and immutable arguments\n",
        "def modify_list(lst):\n",
        "    lst.append(100)\n",
        "\n",
        "def modify_int(x):\n",
        "    x += 10\n",
        "    return x\n",
        "\n",
        "# Mutable\n",
        "my_list = [1, 2, 3]\n",
        "modify_list(my_list)\n",
        "print(\"List after function call:\", my_list)\n",
        "\n",
        "# Immutable\n",
        "num = 5\n",
        "new_num = modify_int(num)\n",
        "print(\"Original number:\", num)\n",
        "print(\"Returned number:\", new_num)\n"
      ],
      "metadata": {
        "id": "GNiNiUh0V6y9"
      },
      "execution_count": null,
      "outputs": []
    },
    {
      "cell_type": "code",
      "source": [
        "#7. Write a program that performs basic arithmetic operations on two user-input numbers\n",
        "a = float(input(\"Enter the first number: \"))\n",
        "b = float(input(\"Enter the second number: \"))\n",
        "\n",
        "print(\"addition:\", a+b)\n",
        "print(\"subtraction:\",a-b)\n",
        "print(\"multiplication:\",a*b)\n",
        "print(\"division\",a/b if b != 0 else \"Cannot divide by zero\")"
      ],
      "metadata": {
        "colab": {
          "base_uri": "https://localhost:8080/"
        },
        "id": "IBxqJTCzV6w6",
        "outputId": "812cf40f-6e15-463a-d5d1-c3af738e555b"
      },
      "execution_count": 5,
      "outputs": [
        {
          "output_type": "stream",
          "name": "stdout",
          "text": [
            "Enter the first number: 5\n",
            "Enter the second number: 5\n",
            "addition: 10.0\n",
            "subtraction: 0.0\n",
            "multiplication: 25.0\n",
            "division 1.0\n"
          ]
        }
      ]
    },
    {
      "cell_type": "code",
      "source": [
        " #8. Write a program to demonstrate the use of logical operators\n",
        " x = 10\n",
        "y = 5\n",
        "\n",
        "print(\"x > 5 and y < 10:\", x > 5 and y < 10)\n",
        "print(\"x < 5 or y < 10:\", x < 5 or y < 10)\n",
        "print(\"not(x == y):\", not(x == y))\n"
      ],
      "metadata": {
        "colab": {
          "base_uri": "https://localhost:8080/"
        },
        "id": "JfOoNNVDV6sa",
        "outputId": "025cac5c-6a37-412a-80c1-f63b6d52f00c"
      },
      "execution_count": 6,
      "outputs": [
        {
          "output_type": "stream",
          "name": "stdout",
          "text": [
            "x > 5 and y < 10: True\n",
            "x < 5 or y < 10: True\n",
            "not(x == y): True\n"
          ]
        }
      ]
    },
    {
      "cell_type": "code",
      "source": [
        "#9.Write a Python program to convert user input from string to integer, float, and boolean types\n",
        "user_input = input(\"Enter a value: \")\n",
        "\n",
        "int_val = int(user_input)\n",
        "float_val = float(user_input)\n",
        "bool_val = bool(user_input)\n",
        "\n",
        "print(\"As Integer:\", int_val)\n",
        "print(\"As Float:\", float_val)\n",
        "print(\"As Boolean:\", bool_val)\n"
      ],
      "metadata": {
        "id": "dXTPjhDVV6qq"
      },
      "execution_count": null,
      "outputs": []
    },
    {
      "cell_type": "code",
      "source": [
        "#10.Write code to demonstrate type casting with list elements\n",
        "str_list = [\"1\", \"2\", \"3\"]\n",
        "int_list = [int(x) for x in str_list]\n",
        "\n",
        "print(\"Original (str):\", str_list)\n",
        "print(\"Converted to int:\", int_list)\n"
      ],
      "metadata": {
        "colab": {
          "base_uri": "https://localhost:8080/"
        },
        "id": "SHEy36q_V2Yl",
        "outputId": "57e4da81-b16c-416d-c340-ff80fc929e42"
      },
      "execution_count": 7,
      "outputs": [
        {
          "output_type": "stream",
          "name": "stdout",
          "text": [
            "Original (str): ['1', '2', '3']\n",
            "Converted to int: [1, 2, 3]\n"
          ]
        }
      ]
    },
    {
      "cell_type": "code",
      "source": [
        "#11.Write a program that checks if a number is positive, negative, or zero\n",
        "num = float(input(\"enter a number: \"))\n",
        "\n",
        "if num > 0:\n",
        "  print(\"positive number\")\n",
        "elif num < 0:\n",
        "  print(\"negetive number\")\n",
        "else:\n",
        "  print(\"zero\")"
      ],
      "metadata": {
        "id": "Za9oC7pxV2HB"
      },
      "execution_count": null,
      "outputs": []
    },
    {
      "cell_type": "code",
      "source": [
        "#12. Write a for loop to print numbers from 1 to 10\n",
        "for i in range(1,11):\n",
        "  print(i)"
      ],
      "metadata": {
        "colab": {
          "base_uri": "https://localhost:8080/"
        },
        "id": "MzSXkLRFV1ma",
        "outputId": "1cf0111b-93e8-4947-9fb9-1178781e46f3"
      },
      "execution_count": 8,
      "outputs": [
        {
          "output_type": "stream",
          "name": "stdout",
          "text": [
            "1\n",
            "2\n",
            "3\n",
            "4\n",
            "5\n",
            "6\n",
            "7\n",
            "8\n",
            "9\n",
            "10\n"
          ]
        }
      ]
    },
    {
      "cell_type": "code",
      "source": [
        "#13.Write a Python program to find the sum of all even numbers between 1 and 50\n",
        "even_sum = 0\n",
        "for i in range(2, 51, 2):\n",
        "    even_sum += i\n",
        "\n",
        "print(\"Sum of even numbers from 1 to 50:\", even_sum)\n"
      ],
      "metadata": {
        "id": "Xv_NBHhmV1VO"
      },
      "execution_count": null,
      "outputs": []
    },
    {
      "cell_type": "code",
      "source": [
        "#14.Write a program to reverse a string using a while loop.\n",
        "text = input(\"Enter a string: \")\n",
        "reversed_text = \"\"\n",
        "i = len(text) - 1\n",
        "\n",
        "while i >= 0:\n",
        "    reversed_text += text[i]\n",
        "    i -= 1\n",
        "\n",
        "print(\"Reversed string:\", reversed_text)\n"
      ],
      "metadata": {
        "id": "CN0nMXrtV0w5"
      },
      "execution_count": null,
      "outputs": []
    },
    {
      "cell_type": "code",
      "source": [
        "#15. Write a Python program to calculate the factorial of a number provided by the user using a while loop\n",
        "num = int(input(\"Enter a number: \"))\n",
        "factorial = 1\n",
        "i = 1\n",
        "\n",
        "while i <= num:\n",
        "    factorial *= i\n",
        "    i += 1\n",
        "\n",
        "print(f\"Factorial of {num} is {factorial}\")\n"
      ],
      "metadata": {
        "colab": {
          "base_uri": "https://localhost:8080/"
        },
        "id": "5FI4XUBkUfyZ",
        "outputId": "58201e8b-3cfe-41d1-ef47-60ba5cce0dfe"
      },
      "execution_count": 9,
      "outputs": [
        {
          "output_type": "stream",
          "name": "stdout",
          "text": [
            "Enter a number: 14\n",
            "Factorial of 14 is 87178291200\n"
          ]
        }
      ]
    }
  ]
}